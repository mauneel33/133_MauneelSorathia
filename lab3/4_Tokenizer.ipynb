{
  "nbformat": 4,
  "nbformat_minor": 0,
  "metadata": {
    "colab": {
      "name": "4_Tokenizer.ipynb",
      "provenance": []
    },
    "kernelspec": {
      "display_name": "Python 3",
      "name": "python3"
    }
  },
  "cells": [
    {
      "cell_type": "code",
      "metadata": {
        "id": "zrZevCPJ92HG"
      },
      "source": [
        "import csv\n",
        "from tensorflow.keras.preprocessing.text import Tokenizer\n",
        "from tensorflow.keras.preprocessing.sequence import pad_sequences\n",
        "\n",
        "stopwords = [ \"a\", \"about\", \"above\", \"after\", \"again\", \"against\", \"all\", \"am\", \"an\", \"and\", \"any\", \"are\", \"as\", \"at\", \"be\", \"because\", \"been\", \"before\", \"being\", \"below\", \"between\", \"both\", \"but\", \"by\", \"could\", \"did\", \"do\", \"does\", \"doing\", \"down\", \"during\", \"each\", \"few\", \"for\", \"from\", \"further\", \"had\", \"has\", \"have\", \"having\", \"he\", \"he'd\", \"he'll\", \"he's\", \"her\", \"here\", \"here's\", \"hers\", \"herself\", \"him\", \"himself\", \"his\", \"how\", \"how's\", \"i\", \"i'd\", \"i'll\", \"i'm\", \"i've\", \"if\", \"in\", \"into\", \"is\", \"it\", \"it's\", \"its\", \"itself\", \"let's\", \"me\", \"more\", \"most\", \"my\", \"myself\", \"nor\", \"of\", \"on\", \"once\", \"only\", \"or\", \"other\", \"ought\", \"our\", \"ours\", \"ourselves\", \"out\", \"over\", \"own\", \"same\", \"she\", \"she'd\", \"she'll\", \"she's\", \"should\", \"so\", \"some\", \"such\", \"than\", \"that\", \"that's\", \"the\", \"their\", \"theirs\", \"them\", \"themselves\", \"then\", \"there\", \"there's\", \"these\", \"they\", \"they'd\", \"they'll\", \"they're\", \"they've\", \"this\", \"those\", \"through\", \"to\", \"too\", \"under\", \"until\", \"up\", \"very\", \"was\", \"we\", \"we'd\", \"we'll\", \"we're\", \"we've\", \"were\", \"what\", \"what's\", \"when\", \"when's\", \"where\", \"where's\", \"which\", \"while\", \"who\", \"who's\", \"whom\", \"why\", \"why's\", \"with\", \"would\", \"you\", \"you'd\", \"you'll\", \"you're\", \"you've\", \"your\", \"yours\", \"yourself\", \"yourselves\" ]\n"
      ],
      "execution_count": 1,
      "outputs": []
    },
    {
      "cell_type": "code",
      "metadata": {
        "id": "1rmYBjsyCv3K",
        "colab": {
          "base_uri": "https://localhost:8080/"
        },
        "outputId": "c5b31345-fe97-4720-885d-500193cfb116"
      },
      "source": [
        "sentences = []\n",
        "labels = []\n",
        "with open(\"bbc-text-small.csv\", 'r') as csvfile:\n",
        "    reader = csv.reader(csvfile, delimiter=',')\n",
        "    next(reader)\n",
        "    for row in reader:\n",
        "        labels.append(row[0])\n",
        "        sentence = row[1]\n",
        "        for word in stopwords:\n",
        "            token = \" \" + word + \" \"\n",
        "            sentence = sentence.replace(token, \" \")\n",
        "            sentence = sentence.replace(\"  \", \" \")\n",
        "        sentences.append(sentence)\n",
        "\n",
        "\n",
        "print(len(sentences))\n",
        "print(sentences[48])\n",
        "print(labels[48])"
      ],
      "execution_count": 3,
      "outputs": [
        {
          "output_type": "stream",
          "name": "stdout",
          "text": [
            "49\n",
            "libya takes $1bn unfrozen funds libya withdrawn $1bn assets us assets previously frozen almost 20 years libyan central bank said. move came us lifted trade ban reward tripoli giving weapons mass destruction vowing compensate lockerbie victims. original size libya s funds $400m central bank told reuters. however withdrawal not mean libya cut ties us added. process opening accounts banks united states central bank s vice president farhat omar ben gadaravice said. previously frozen assets invested various countries believed included equity holdings banks. us ban trade economic activity tripoli - imposed president ronald regan 1986 series us deemed terrorist acts including 1988 lockerbie air crash - suspended april. bankers two country s working unfreeze libya s assets.\n",
            "business\n"
          ]
        }
      ]
    },
    {
      "cell_type": "code",
      "metadata": {
        "id": "9LhzBBgSC3S5"
      },
      "source": [
        "#out of vocab - replace unknown word with our token\n",
        "tokenizer = Tokenizer(oov_token=\"<OOV>\")\n",
        "tokenizer.fit_on_texts(sentences)\n",
        "index = tokenizer.word_index\n",
        "# print(index)"
      ],
      "execution_count": 7,
      "outputs": []
    },
    {
      "cell_type": "code",
      "metadata": {
        "id": "1Gr3dbQfC5VR",
        "colab": {
          "base_uri": "https://localhost:8080/"
        },
        "outputId": "482fe470-2963-476a-948a-cb91ecb07b54"
      },
      "source": [
        "#Sequencing and Padding\n",
        "seq = tokenizer.texts_to_sequences(sentences)\n",
        "padded = pad_sequences(seq, padding='post')\n",
        "print(padded.shape)"
      ],
      "execution_count": 9,
      "outputs": [
        {
          "output_type": "stream",
          "name": "stdout",
          "text": [
            "(4, 13)\n"
          ]
        }
      ]
    },
    {
      "cell_type": "code",
      "metadata": {
        "id": "fZufOahzC6yx",
        "colab": {
          "base_uri": "https://localhost:8080/"
        },
        "outputId": "111291f0-a348-4dc1-ac6f-e0b0c5bafafd"
      },
      "source": [
        "lb = Tokenizer()\n",
        "lb.fit_on_texts(labels)\n",
        "print(lb.word_index)\n",
        "print(lb.texts_to_sequences(labels))"
      ],
      "execution_count": 11,
      "outputs": [
        {
          "output_type": "stream",
          "name": "stdout",
          "text": [
            "{'tech': 1, 'business': 2, 'sport': 3, 'entertainment': 4, 'politics': 5}\n",
            "[[1], [2], [3], [3], [4], [5], [5], [3], [3], [4], [4], [5], [3], [5], [3], [1], [1], [1], [3], [3], [1], [3], [4], [1], [5], [4], [5], [1], [4], [4], [5], [1], [4], [5], [5], [3], [1], [4], [1], [4], [2], [2], [2], [2], [2], [2], [2], [2], [2]]\n"
          ]
        }
      ]
    },
    {
      "cell_type": "markdown",
      "metadata": {
        "id": "2WhJj6FYh2hr"
      },
      "source": [
        "**Example-2**"
      ]
    },
    {
      "cell_type": "code",
      "metadata": {
        "id": "0mKRN7dph6Mj",
        "colab": {
          "base_uri": "https://localhost:8080/"
        },
        "outputId": "195036a2-7496-433f-eb3d-822d36433cd4"
      },
      "source": [
        "sentences = [\n",
        "    'At DDU, we are Learning ML in semester 7 !!!',\n",
        "    'I love ml subject',\n",
        "    'Prof Brijesh Bhatt and prof. Hariom Pandya are faculties for the Ml subject',\n",
        "    'Do you think ML is amazing?'\n",
        "]\n",
        "\n",
        "#Converting to lower case\n",
        "lowcase_sent = []\n",
        "for s in sentences:\n",
        "  lowcase_sent.append(s.lower())\n",
        "print(lowcase_sent)"
      ],
      "execution_count": 12,
      "outputs": [
        {
          "output_type": "stream",
          "name": "stdout",
          "text": [
            "['at ddu, we are learning ml in semester 7 !!!', 'i love ml subject', 'prof brijesh bhatt and prof. hariom pandya are faculties for the ml subject', 'do you think ml is amazing?']\n"
          ]
        }
      ]
    },
    {
      "cell_type": "code",
      "metadata": {
        "colab": {
          "base_uri": "https://localhost:8080/"
        },
        "id": "NbMqNh9jKMOL",
        "outputId": "10414964-849b-4665-be5b-b9762d50f775"
      },
      "source": [
        "#Removing stop words and extra spaces\n",
        "org_sent = []\n",
        "for s in lowcase_sent:\n",
        "  for w in stopwords:\n",
        "    token = \" \"+word+\" \"\n",
        "    s = s.replace(token, \" \")\n",
        "    s = s.replace(\"  \", \" \")\n",
        "    org_sent.append(s)\n",
        "print(org_sent)"
      ],
      "execution_count": 13,
      "outputs": [
        {
          "output_type": "stream",
          "name": "stdout",
          "text": [
            "['at ddu, we are learning ml in semester 7 !!!', 'at ddu, we are learning ml in semester 7 !!!', 'at ddu, we are learning ml in semester 7 !!!', 'at ddu, we are learning ml in semester 7 !!!', 'at ddu, we are learning ml in semester 7 !!!', 'at ddu, we are learning ml in semester 7 !!!', 'at ddu, we are learning ml in semester 7 !!!', 'at ddu, we are learning ml in semester 7 !!!', 'at ddu, we are learning ml in semester 7 !!!', 'at ddu, we are learning ml in semester 7 !!!', 'at ddu, we are learning ml in semester 7 !!!', 'at ddu, we are learning ml in semester 7 !!!', 'at ddu, we are learning ml in semester 7 !!!', 'at ddu, we are learning ml in semester 7 !!!', 'at ddu, we are learning ml in semester 7 !!!', 'at ddu, we are learning ml in semester 7 !!!', 'at ddu, we are learning ml in semester 7 !!!', 'at ddu, we are learning ml in semester 7 !!!', 'at ddu, we are learning ml in semester 7 !!!', 'at ddu, we are learning ml in semester 7 !!!', 'at ddu, we are learning ml in semester 7 !!!', 'at ddu, we are learning ml in semester 7 !!!', 'at ddu, we are learning ml in semester 7 !!!', 'at ddu, we are learning ml in semester 7 !!!', 'at ddu, we are learning ml in semester 7 !!!', 'at ddu, we are learning ml in semester 7 !!!', 'at ddu, we are learning ml in semester 7 !!!', 'at ddu, we are learning ml in semester 7 !!!', 'at ddu, we are learning ml in semester 7 !!!', 'at ddu, we are learning ml in semester 7 !!!', 'at ddu, we are learning ml in semester 7 !!!', 'at ddu, we are learning ml in semester 7 !!!', 'at ddu, we are learning ml in semester 7 !!!', 'at ddu, we are learning ml in semester 7 !!!', 'at ddu, we are learning ml in semester 7 !!!', 'at ddu, we are learning ml in semester 7 !!!', 'at ddu, we are learning ml in semester 7 !!!', 'at ddu, we are learning ml in semester 7 !!!', 'at ddu, we are learning ml in semester 7 !!!', 'at ddu, we are learning ml in semester 7 !!!', 'at ddu, we are learning ml in semester 7 !!!', 'at ddu, we are learning ml in semester 7 !!!', 'at ddu, we are learning ml in semester 7 !!!', 'at ddu, we are learning ml in semester 7 !!!', 'at ddu, we are learning ml in semester 7 !!!', 'at ddu, we are learning ml in semester 7 !!!', 'at ddu, we are learning ml in semester 7 !!!', 'at ddu, we are learning ml in semester 7 !!!', 'at ddu, we are learning ml in semester 7 !!!', 'at ddu, we are learning ml in semester 7 !!!', 'at ddu, we are learning ml in semester 7 !!!', 'at ddu, we are learning ml in semester 7 !!!', 'at ddu, we are learning ml in semester 7 !!!', 'at ddu, we are learning ml in semester 7 !!!', 'at ddu, we are learning ml in semester 7 !!!', 'at ddu, we are learning ml in semester 7 !!!', 'at ddu, we are learning ml in semester 7 !!!', 'at ddu, we are learning ml in semester 7 !!!', 'at ddu, we are learning ml in semester 7 !!!', 'at ddu, we are learning ml in semester 7 !!!', 'at ddu, we are learning ml in semester 7 !!!', 'at ddu, we are learning ml in semester 7 !!!', 'at ddu, we are learning ml in semester 7 !!!', 'at ddu, we are learning ml in semester 7 !!!', 'at ddu, we are learning ml in semester 7 !!!', 'at ddu, we are learning ml in semester 7 !!!', 'at ddu, we are learning ml in semester 7 !!!', 'at ddu, we are learning ml in semester 7 !!!', 'at ddu, we are learning ml in semester 7 !!!', 'at ddu, we are learning ml in semester 7 !!!', 'at ddu, we are learning ml in semester 7 !!!', 'at ddu, we are learning ml in semester 7 !!!', 'at ddu, we are learning ml in semester 7 !!!', 'at ddu, we are learning ml in semester 7 !!!', 'at ddu, we are learning ml in semester 7 !!!', 'at ddu, we are learning ml in semester 7 !!!', 'at ddu, we are learning ml in semester 7 !!!', 'at ddu, we are learning ml in semester 7 !!!', 'at ddu, we are learning ml in semester 7 !!!', 'at ddu, we are learning ml in semester 7 !!!', 'at ddu, we are learning ml in semester 7 !!!', 'at ddu, we are learning ml in semester 7 !!!', 'at ddu, we are learning ml in semester 7 !!!', 'at ddu, we are learning ml in semester 7 !!!', 'at ddu, we are learning ml in semester 7 !!!', 'at ddu, we are learning ml in semester 7 !!!', 'at ddu, we are learning ml in semester 7 !!!', 'at ddu, we are learning ml in semester 7 !!!', 'at ddu, we are learning ml in semester 7 !!!', 'at ddu, we are learning ml in semester 7 !!!', 'at ddu, we are learning ml in semester 7 !!!', 'at ddu, we are learning ml in semester 7 !!!', 'at ddu, we are learning ml in semester 7 !!!', 'at ddu, we are learning ml in semester 7 !!!', 'at ddu, we are learning ml in semester 7 !!!', 'at ddu, we are learning ml in semester 7 !!!', 'at ddu, we are learning ml in semester 7 !!!', 'at ddu, we are learning ml in semester 7 !!!', 'at ddu, we are learning ml in semester 7 !!!', 'at ddu, we are learning ml in semester 7 !!!', 'at ddu, we are learning ml in semester 7 !!!', 'at ddu, we are learning ml in semester 7 !!!', 'at ddu, we are learning ml in semester 7 !!!', 'at ddu, we are learning ml in semester 7 !!!', 'at ddu, we are learning ml in semester 7 !!!', 'at ddu, we are learning ml in semester 7 !!!', 'at ddu, we are learning ml in semester 7 !!!', 'at ddu, we are learning ml in semester 7 !!!', 'at ddu, we are learning ml in semester 7 !!!', 'at ddu, we are learning ml in semester 7 !!!', 'at ddu, we are learning ml in semester 7 !!!', 'at ddu, we are learning ml in semester 7 !!!', 'at ddu, we are learning ml in semester 7 !!!', 'at ddu, we are learning ml in semester 7 !!!', 'at ddu, we are learning ml in semester 7 !!!', 'at ddu, we are learning ml in semester 7 !!!', 'at ddu, we are learning ml in semester 7 !!!', 'at ddu, we are learning ml in semester 7 !!!', 'at ddu, we are learning ml in semester 7 !!!', 'at ddu, we are learning ml in semester 7 !!!', 'at ddu, we are learning ml in semester 7 !!!', 'at ddu, we are learning ml in semester 7 !!!', 'at ddu, we are learning ml in semester 7 !!!', 'at ddu, we are learning ml in semester 7 !!!', 'at ddu, we are learning ml in semester 7 !!!', 'at ddu, we are learning ml in semester 7 !!!', 'at ddu, we are learning ml in semester 7 !!!', 'at ddu, we are learning ml in semester 7 !!!', 'at ddu, we are learning ml in semester 7 !!!', 'at ddu, we are learning ml in semester 7 !!!', 'at ddu, we are learning ml in semester 7 !!!', 'at ddu, we are learning ml in semester 7 !!!', 'at ddu, we are learning ml in semester 7 !!!', 'at ddu, we are learning ml in semester 7 !!!', 'at ddu, we are learning ml in semester 7 !!!', 'at ddu, we are learning ml in semester 7 !!!', 'at ddu, we are learning ml in semester 7 !!!', 'at ddu, we are learning ml in semester 7 !!!', 'at ddu, we are learning ml in semester 7 !!!', 'at ddu, we are learning ml in semester 7 !!!', 'at ddu, we are learning ml in semester 7 !!!', 'at ddu, we are learning ml in semester 7 !!!', 'at ddu, we are learning ml in semester 7 !!!', 'at ddu, we are learning ml in semester 7 !!!', 'at ddu, we are learning ml in semester 7 !!!', 'at ddu, we are learning ml in semester 7 !!!', 'at ddu, we are learning ml in semester 7 !!!', 'at ddu, we are learning ml in semester 7 !!!', 'at ddu, we are learning ml in semester 7 !!!', 'at ddu, we are learning ml in semester 7 !!!', 'at ddu, we are learning ml in semester 7 !!!', 'at ddu, we are learning ml in semester 7 !!!', 'at ddu, we are learning ml in semester 7 !!!', 'i love ml subject', 'i love ml subject', 'i love ml subject', 'i love ml subject', 'i love ml subject', 'i love ml subject', 'i love ml subject', 'i love ml subject', 'i love ml subject', 'i love ml subject', 'i love ml subject', 'i love ml subject', 'i love ml subject', 'i love ml subject', 'i love ml subject', 'i love ml subject', 'i love ml subject', 'i love ml subject', 'i love ml subject', 'i love ml subject', 'i love ml subject', 'i love ml subject', 'i love ml subject', 'i love ml subject', 'i love ml subject', 'i love ml subject', 'i love ml subject', 'i love ml subject', 'i love ml subject', 'i love ml subject', 'i love ml subject', 'i love ml subject', 'i love ml subject', 'i love ml subject', 'i love ml subject', 'i love ml subject', 'i love ml subject', 'i love ml subject', 'i love ml subject', 'i love ml subject', 'i love ml subject', 'i love ml subject', 'i love ml subject', 'i love ml subject', 'i love ml subject', 'i love ml subject', 'i love ml subject', 'i love ml subject', 'i love ml subject', 'i love ml subject', 'i love ml subject', 'i love ml subject', 'i love ml subject', 'i love ml subject', 'i love ml subject', 'i love ml subject', 'i love ml subject', 'i love ml subject', 'i love ml subject', 'i love ml subject', 'i love ml subject', 'i love ml subject', 'i love ml subject', 'i love ml subject', 'i love ml subject', 'i love ml subject', 'i love ml subject', 'i love ml subject', 'i love ml subject', 'i love ml subject', 'i love ml subject', 'i love ml subject', 'i love ml subject', 'i love ml subject', 'i love ml subject', 'i love ml subject', 'i love ml subject', 'i love ml subject', 'i love ml subject', 'i love ml subject', 'i love ml subject', 'i love ml subject', 'i love ml subject', 'i love ml subject', 'i love ml subject', 'i love ml subject', 'i love ml subject', 'i love ml subject', 'i love ml subject', 'i love ml subject', 'i love ml subject', 'i love ml subject', 'i love ml subject', 'i love ml subject', 'i love ml subject', 'i love ml subject', 'i love ml subject', 'i love ml subject', 'i love ml subject', 'i love ml subject', 'i love ml subject', 'i love ml subject', 'i love ml subject', 'i love ml subject', 'i love ml subject', 'i love ml subject', 'i love ml subject', 'i love ml subject', 'i love ml subject', 'i love ml subject', 'i love ml subject', 'i love ml subject', 'i love ml subject', 'i love ml subject', 'i love ml subject', 'i love ml subject', 'i love ml subject', 'i love ml subject', 'i love ml subject', 'i love ml subject', 'i love ml subject', 'i love ml subject', 'i love ml subject', 'i love ml subject', 'i love ml subject', 'i love ml subject', 'i love ml subject', 'i love ml subject', 'i love ml subject', 'i love ml subject', 'i love ml subject', 'i love ml subject', 'i love ml subject', 'i love ml subject', 'i love ml subject', 'i love ml subject', 'i love ml subject', 'i love ml subject', 'i love ml subject', 'i love ml subject', 'i love ml subject', 'i love ml subject', 'i love ml subject', 'i love ml subject', 'i love ml subject', 'i love ml subject', 'i love ml subject', 'i love ml subject', 'i love ml subject', 'i love ml subject', 'i love ml subject', 'i love ml subject', 'i love ml subject', 'prof brijesh bhatt and prof. hariom pandya are faculties for the ml subject', 'prof brijesh bhatt and prof. hariom pandya are faculties for the ml subject', 'prof brijesh bhatt and prof. hariom pandya are faculties for the ml subject', 'prof brijesh bhatt and prof. hariom pandya are faculties for the ml subject', 'prof brijesh bhatt and prof. hariom pandya are faculties for the ml subject', 'prof brijesh bhatt and prof. hariom pandya are faculties for the ml subject', 'prof brijesh bhatt and prof. hariom pandya are faculties for the ml subject', 'prof brijesh bhatt and prof. hariom pandya are faculties for the ml subject', 'prof brijesh bhatt and prof. hariom pandya are faculties for the ml subject', 'prof brijesh bhatt and prof. hariom pandya are faculties for the ml subject', 'prof brijesh bhatt and prof. hariom pandya are faculties for the ml subject', 'prof brijesh bhatt and prof. hariom pandya are faculties for the ml subject', 'prof brijesh bhatt and prof. hariom pandya are faculties for the ml subject', 'prof brijesh bhatt and prof. hariom pandya are faculties for the ml subject', 'prof brijesh bhatt and prof. hariom pandya are faculties for the ml subject', 'prof brijesh bhatt and prof. hariom pandya are faculties for the ml subject', 'prof brijesh bhatt and prof. hariom pandya are faculties for the ml subject', 'prof brijesh bhatt and prof. hariom pandya are faculties for the ml subject', 'prof brijesh bhatt and prof. hariom pandya are faculties for the ml subject', 'prof brijesh bhatt and prof. hariom pandya are faculties for the ml subject', 'prof brijesh bhatt and prof. hariom pandya are faculties for the ml subject', 'prof brijesh bhatt and prof. hariom pandya are faculties for the ml subject', 'prof brijesh bhatt and prof. hariom pandya are faculties for the ml subject', 'prof brijesh bhatt and prof. hariom pandya are faculties for the ml subject', 'prof brijesh bhatt and prof. hariom pandya are faculties for the ml subject', 'prof brijesh bhatt and prof. hariom pandya are faculties for the ml subject', 'prof brijesh bhatt and prof. hariom pandya are faculties for the ml subject', 'prof brijesh bhatt and prof. hariom pandya are faculties for the ml subject', 'prof brijesh bhatt and prof. hariom pandya are faculties for the ml subject', 'prof brijesh bhatt and prof. hariom pandya are faculties for the ml subject', 'prof brijesh bhatt and prof. hariom pandya are faculties for the ml subject', 'prof brijesh bhatt and prof. hariom pandya are faculties for the ml subject', 'prof brijesh bhatt and prof. hariom pandya are faculties for the ml subject', 'prof brijesh bhatt and prof. hariom pandya are faculties for the ml subject', 'prof brijesh bhatt and prof. hariom pandya are faculties for the ml subject', 'prof brijesh bhatt and prof. hariom pandya are faculties for the ml subject', 'prof brijesh bhatt and prof. hariom pandya are faculties for the ml subject', 'prof brijesh bhatt and prof. hariom pandya are faculties for the ml subject', 'prof brijesh bhatt and prof. hariom pandya are faculties for the ml subject', 'prof brijesh bhatt and prof. hariom pandya are faculties for the ml subject', 'prof brijesh bhatt and prof. hariom pandya are faculties for the ml subject', 'prof brijesh bhatt and prof. hariom pandya are faculties for the ml subject', 'prof brijesh bhatt and prof. hariom pandya are faculties for the ml subject', 'prof brijesh bhatt and prof. hariom pandya are faculties for the ml subject', 'prof brijesh bhatt and prof. hariom pandya are faculties for the ml subject', 'prof brijesh bhatt and prof. hariom pandya are faculties for the ml subject', 'prof brijesh bhatt and prof. hariom pandya are faculties for the ml subject', 'prof brijesh bhatt and prof. hariom pandya are faculties for the ml subject', 'prof brijesh bhatt and prof. hariom pandya are faculties for the ml subject', 'prof brijesh bhatt and prof. hariom pandya are faculties for the ml subject', 'prof brijesh bhatt and prof. hariom pandya are faculties for the ml subject', 'prof brijesh bhatt and prof. hariom pandya are faculties for the ml subject', 'prof brijesh bhatt and prof. hariom pandya are faculties for the ml subject', 'prof brijesh bhatt and prof. hariom pandya are faculties for the ml subject', 'prof brijesh bhatt and prof. hariom pandya are faculties for the ml subject', 'prof brijesh bhatt and prof. hariom pandya are faculties for the ml subject', 'prof brijesh bhatt and prof. hariom pandya are faculties for the ml subject', 'prof brijesh bhatt and prof. hariom pandya are faculties for the ml subject', 'prof brijesh bhatt and prof. hariom pandya are faculties for the ml subject', 'prof brijesh bhatt and prof. hariom pandya are faculties for the ml subject', 'prof brijesh bhatt and prof. hariom pandya are faculties for the ml subject', 'prof brijesh bhatt and prof. hariom pandya are faculties for the ml subject', 'prof brijesh bhatt and prof. hariom pandya are faculties for the ml subject', 'prof brijesh bhatt and prof. hariom pandya are faculties for the ml subject', 'prof brijesh bhatt and prof. hariom pandya are faculties for the ml subject', 'prof brijesh bhatt and prof. hariom pandya are faculties for the ml subject', 'prof brijesh bhatt and prof. hariom pandya are faculties for the ml subject', 'prof brijesh bhatt and prof. hariom pandya are faculties for the ml subject', 'prof brijesh bhatt and prof. hariom pandya are faculties for the ml subject', 'prof brijesh bhatt and prof. hariom pandya are faculties for the ml subject', 'prof brijesh bhatt and prof. hariom pandya are faculties for the ml subject', 'prof brijesh bhatt and prof. hariom pandya are faculties for the ml subject', 'prof brijesh bhatt and prof. hariom pandya are faculties for the ml subject', 'prof brijesh bhatt and prof. hariom pandya are faculties for the ml subject', 'prof brijesh bhatt and prof. hariom pandya are faculties for the ml subject', 'prof brijesh bhatt and prof. hariom pandya are faculties for the ml subject', 'prof brijesh bhatt and prof. hariom pandya are faculties for the ml subject', 'prof brijesh bhatt and prof. hariom pandya are faculties for the ml subject', 'prof brijesh bhatt and prof. hariom pandya are faculties for the ml subject', 'prof brijesh bhatt and prof. hariom pandya are faculties for the ml subject', 'prof brijesh bhatt and prof. hariom pandya are faculties for the ml subject', 'prof brijesh bhatt and prof. hariom pandya are faculties for the ml subject', 'prof brijesh bhatt and prof. hariom pandya are faculties for the ml subject', 'prof brijesh bhatt and prof. hariom pandya are faculties for the ml subject', 'prof brijesh bhatt and prof. hariom pandya are faculties for the ml subject', 'prof brijesh bhatt and prof. hariom pandya are faculties for the ml subject', 'prof brijesh bhatt and prof. hariom pandya are faculties for the ml subject', 'prof brijesh bhatt and prof. hariom pandya are faculties for the ml subject', 'prof brijesh bhatt and prof. hariom pandya are faculties for the ml subject', 'prof brijesh bhatt and prof. hariom pandya are faculties for the ml subject', 'prof brijesh bhatt and prof. hariom pandya are faculties for the ml subject', 'prof brijesh bhatt and prof. hariom pandya are faculties for the ml subject', 'prof brijesh bhatt and prof. hariom pandya are faculties for the ml subject', 'prof brijesh bhatt and prof. hariom pandya are faculties for the ml subject', 'prof brijesh bhatt and prof. hariom pandya are faculties for the ml subject', 'prof brijesh bhatt and prof. hariom pandya are faculties for the ml subject', 'prof brijesh bhatt and prof. hariom pandya are faculties for the ml subject', 'prof brijesh bhatt and prof. hariom pandya are faculties for the ml subject', 'prof brijesh bhatt and prof. hariom pandya are faculties for the ml subject', 'prof brijesh bhatt and prof. hariom pandya are faculties for the ml subject', 'prof brijesh bhatt and prof. hariom pandya are faculties for the ml subject', 'prof brijesh bhatt and prof. hariom pandya are faculties for the ml subject', 'prof brijesh bhatt and prof. hariom pandya are faculties for the ml subject', 'prof brijesh bhatt and prof. hariom pandya are faculties for the ml subject', 'prof brijesh bhatt and prof. hariom pandya are faculties for the ml subject', 'prof brijesh bhatt and prof. hariom pandya are faculties for the ml subject', 'prof brijesh bhatt and prof. hariom pandya are faculties for the ml subject', 'prof brijesh bhatt and prof. hariom pandya are faculties for the ml subject', 'prof brijesh bhatt and prof. hariom pandya are faculties for the ml subject', 'prof brijesh bhatt and prof. hariom pandya are faculties for the ml subject', 'prof brijesh bhatt and prof. hariom pandya are faculties for the ml subject', 'prof brijesh bhatt and prof. hariom pandya are faculties for the ml subject', 'prof brijesh bhatt and prof. hariom pandya are faculties for the ml subject', 'prof brijesh bhatt and prof. hariom pandya are faculties for the ml subject', 'prof brijesh bhatt and prof. hariom pandya are faculties for the ml subject', 'prof brijesh bhatt and prof. hariom pandya are faculties for the ml subject', 'prof brijesh bhatt and prof. hariom pandya are faculties for the ml subject', 'prof brijesh bhatt and prof. hariom pandya are faculties for the ml subject', 'prof brijesh bhatt and prof. hariom pandya are faculties for the ml subject', 'prof brijesh bhatt and prof. hariom pandya are faculties for the ml subject', 'prof brijesh bhatt and prof. hariom pandya are faculties for the ml subject', 'prof brijesh bhatt and prof. hariom pandya are faculties for the ml subject', 'prof brijesh bhatt and prof. hariom pandya are faculties for the ml subject', 'prof brijesh bhatt and prof. hariom pandya are faculties for the ml subject', 'prof brijesh bhatt and prof. hariom pandya are faculties for the ml subject', 'prof brijesh bhatt and prof. hariom pandya are faculties for the ml subject', 'prof brijesh bhatt and prof. hariom pandya are faculties for the ml subject', 'prof brijesh bhatt and prof. hariom pandya are faculties for the ml subject', 'prof brijesh bhatt and prof. hariom pandya are faculties for the ml subject', 'prof brijesh bhatt and prof. hariom pandya are faculties for the ml subject', 'prof brijesh bhatt and prof. hariom pandya are faculties for the ml subject', 'prof brijesh bhatt and prof. hariom pandya are faculties for the ml subject', 'prof brijesh bhatt and prof. hariom pandya are faculties for the ml subject', 'prof brijesh bhatt and prof. hariom pandya are faculties for the ml subject', 'prof brijesh bhatt and prof. hariom pandya are faculties for the ml subject', 'prof brijesh bhatt and prof. hariom pandya are faculties for the ml subject', 'prof brijesh bhatt and prof. hariom pandya are faculties for the ml subject', 'prof brijesh bhatt and prof. hariom pandya are faculties for the ml subject', 'prof brijesh bhatt and prof. hariom pandya are faculties for the ml subject', 'prof brijesh bhatt and prof. hariom pandya are faculties for the ml subject', 'prof brijesh bhatt and prof. hariom pandya are faculties for the ml subject', 'prof brijesh bhatt and prof. hariom pandya are faculties for the ml subject', 'prof brijesh bhatt and prof. hariom pandya are faculties for the ml subject', 'prof brijesh bhatt and prof. hariom pandya are faculties for the ml subject', 'prof brijesh bhatt and prof. hariom pandya are faculties for the ml subject', 'prof brijesh bhatt and prof. hariom pandya are faculties for the ml subject', 'prof brijesh bhatt and prof. hariom pandya are faculties for the ml subject', 'prof brijesh bhatt and prof. hariom pandya are faculties for the ml subject', 'prof brijesh bhatt and prof. hariom pandya are faculties for the ml subject', 'prof brijesh bhatt and prof. hariom pandya are faculties for the ml subject', 'prof brijesh bhatt and prof. hariom pandya are faculties for the ml subject', 'prof brijesh bhatt and prof. hariom pandya are faculties for the ml subject', 'prof brijesh bhatt and prof. hariom pandya are faculties for the ml subject', 'do you think ml is amazing?', 'do you think ml is amazing?', 'do you think ml is amazing?', 'do you think ml is amazing?', 'do you think ml is amazing?', 'do you think ml is amazing?', 'do you think ml is amazing?', 'do you think ml is amazing?', 'do you think ml is amazing?', 'do you think ml is amazing?', 'do you think ml is amazing?', 'do you think ml is amazing?', 'do you think ml is amazing?', 'do you think ml is amazing?', 'do you think ml is amazing?', 'do you think ml is amazing?', 'do you think ml is amazing?', 'do you think ml is amazing?', 'do you think ml is amazing?', 'do you think ml is amazing?', 'do you think ml is amazing?', 'do you think ml is amazing?', 'do you think ml is amazing?', 'do you think ml is amazing?', 'do you think ml is amazing?', 'do you think ml is amazing?', 'do you think ml is amazing?', 'do you think ml is amazing?', 'do you think ml is amazing?', 'do you think ml is amazing?', 'do you think ml is amazing?', 'do you think ml is amazing?', 'do you think ml is amazing?', 'do you think ml is amazing?', 'do you think ml is amazing?', 'do you think ml is amazing?', 'do you think ml is amazing?', 'do you think ml is amazing?', 'do you think ml is amazing?', 'do you think ml is amazing?', 'do you think ml is amazing?', 'do you think ml is amazing?', 'do you think ml is amazing?', 'do you think ml is amazing?', 'do you think ml is amazing?', 'do you think ml is amazing?', 'do you think ml is amazing?', 'do you think ml is amazing?', 'do you think ml is amazing?', 'do you think ml is amazing?', 'do you think ml is amazing?', 'do you think ml is amazing?', 'do you think ml is amazing?', 'do you think ml is amazing?', 'do you think ml is amazing?', 'do you think ml is amazing?', 'do you think ml is amazing?', 'do you think ml is amazing?', 'do you think ml is amazing?', 'do you think ml is amazing?', 'do you think ml is amazing?', 'do you think ml is amazing?', 'do you think ml is amazing?', 'do you think ml is amazing?', 'do you think ml is amazing?', 'do you think ml is amazing?', 'do you think ml is amazing?', 'do you think ml is amazing?', 'do you think ml is amazing?', 'do you think ml is amazing?', 'do you think ml is amazing?', 'do you think ml is amazing?', 'do you think ml is amazing?', 'do you think ml is amazing?', 'do you think ml is amazing?', 'do you think ml is amazing?', 'do you think ml is amazing?', 'do you think ml is amazing?', 'do you think ml is amazing?', 'do you think ml is amazing?', 'do you think ml is amazing?', 'do you think ml is amazing?', 'do you think ml is amazing?', 'do you think ml is amazing?', 'do you think ml is amazing?', 'do you think ml is amazing?', 'do you think ml is amazing?', 'do you think ml is amazing?', 'do you think ml is amazing?', 'do you think ml is amazing?', 'do you think ml is amazing?', 'do you think ml is amazing?', 'do you think ml is amazing?', 'do you think ml is amazing?', 'do you think ml is amazing?', 'do you think ml is amazing?', 'do you think ml is amazing?', 'do you think ml is amazing?', 'do you think ml is amazing?', 'do you think ml is amazing?', 'do you think ml is amazing?', 'do you think ml is amazing?', 'do you think ml is amazing?', 'do you think ml is amazing?', 'do you think ml is amazing?', 'do you think ml is amazing?', 'do you think ml is amazing?', 'do you think ml is amazing?', 'do you think ml is amazing?', 'do you think ml is amazing?', 'do you think ml is amazing?', 'do you think ml is amazing?', 'do you think ml is amazing?', 'do you think ml is amazing?', 'do you think ml is amazing?', 'do you think ml is amazing?', 'do you think ml is amazing?', 'do you think ml is amazing?', 'do you think ml is amazing?', 'do you think ml is amazing?', 'do you think ml is amazing?', 'do you think ml is amazing?', 'do you think ml is amazing?', 'do you think ml is amazing?', 'do you think ml is amazing?', 'do you think ml is amazing?', 'do you think ml is amazing?', 'do you think ml is amazing?', 'do you think ml is amazing?', 'do you think ml is amazing?', 'do you think ml is amazing?', 'do you think ml is amazing?', 'do you think ml is amazing?', 'do you think ml is amazing?', 'do you think ml is amazing?', 'do you think ml is amazing?', 'do you think ml is amazing?', 'do you think ml is amazing?', 'do you think ml is amazing?', 'do you think ml is amazing?', 'do you think ml is amazing?', 'do you think ml is amazing?', 'do you think ml is amazing?', 'do you think ml is amazing?', 'do you think ml is amazing?', 'do you think ml is amazing?', 'do you think ml is amazing?', 'do you think ml is amazing?', 'do you think ml is amazing?', 'do you think ml is amazing?', 'do you think ml is amazing?', 'do you think ml is amazing?', 'do you think ml is amazing?']\n"
          ]
        }
      ]
    },
    {
      "cell_type": "code",
      "metadata": {
        "colab": {
          "base_uri": "https://localhost:8080/"
        },
        "id": "QivDZwbSKwOk",
        "outputId": "b0411893-0049-451a-efda-4c7ab7b6291e"
      },
      "source": [
        "#Word Indexing\n",
        "tokenizer = Tokenizer(oov_token=\"<OOV>\")\n",
        "tokenizer.fit_on_texts(org_sent)\n",
        "index = tokenizer.word_index\n",
        "print(index)"
      ],
      "execution_count": 14,
      "outputs": [
        {
          "output_type": "stream",
          "name": "stdout",
          "text": [
            "{'<OOV>': 1, 'ml': 2, 'are': 3, 'subject': 4, 'prof': 5, 'at': 6, 'ddu': 7, 'we': 8, 'learning': 9, 'in': 10, 'semester': 11, '7': 12, 'i': 13, 'love': 14, 'brijesh': 15, 'bhatt': 16, 'and': 17, 'hariom': 18, 'pandya': 19, 'faculties': 20, 'for': 21, 'the': 22, 'do': 23, 'you': 24, 'think': 25, 'is': 26, 'amazing': 27}\n"
          ]
        }
      ]
    },
    {
      "cell_type": "code",
      "metadata": {
        "colab": {
          "base_uri": "https://localhost:8080/"
        },
        "id": "5wmEc-QbLJ9p",
        "outputId": "88206d81-37d6-4af3-c1b5-cc225e01fc41"
      },
      "source": [
        "#Sequencing and Padding\n",
        "seq = tokenizer.texts_to_sequences(org_sent)\n",
        "padded = pad_sequences(seq, padding='post')\n",
        "print(padded)\n",
        "print(padded.shape)"
      ],
      "execution_count": 15,
      "outputs": [
        {
          "output_type": "stream",
          "name": "stdout",
          "text": [
            "[[ 6  7  8 ...  0  0  0]\n",
            " [ 6  7  8 ...  0  0  0]\n",
            " [ 6  7  8 ...  0  0  0]\n",
            " ...\n",
            " [23 24 25 ...  0  0  0]\n",
            " [23 24 25 ...  0  0  0]\n",
            " [23 24 25 ...  0  0  0]]\n",
            "(612, 13)\n"
          ]
        }
      ]
    }
  ]
}